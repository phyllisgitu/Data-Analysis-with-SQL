{
 "cells": [
  {
   "cell_type": "markdown",
   "metadata": {},
   "source": [
    "# Analyzing Data Using SQL\n",
    "\n",
    "In this project, we'll work with data from the [CIA World Factbook](https://www.cia.gov/the-world-factbook/), containing statistics about all of the countries on Earth. The Factbook contains [demographic information](https://dsserver-prod-resources-1.s3.amazonaws.com/257/factbook.db) like the following:\n",
    "\n",
    "-  population — the global population.\n",
    "-  population_growth — the annual population growth rate, as a percentage.\n",
    "-  area — the total land and water area.\n",
    "\n",
    "## Table of Contents\n",
    "---\n",
    "- [Connecting to the database](#Connecting-to-the-Database)\n",
    "- [Overview of the Data](#Overview-of-the-Data)\n",
    "- [Summary Statistics](#Summary-Statistics)\n",
    "- [Densely Populated Countries](#Densely-Populated-Countries)\n",
    "- [Sparsely Populated Countries](#Sparsely-Populated-Countries)\n",
    "- [Populated Islands](#Populated-Islands)\n",
    "- [Exploring Population Density](#Exploring-Population-Density)\n",
    "- [Conclusion](#Conclusion)\n",
    "\n",
    "## Connecting to the Database\n",
    "\n",
    "First we connect our Jupyter Notebook to our database file:"
   ]
  },
  {
   "cell_type": "code",
   "execution_count": 4,
   "metadata": {
    "collapsed": false
   },
   "outputs": [
    {
     "data": {
      "text/plain": [
       "'Connected: None@factbook.db'"
      ]
     },
     "execution_count": 4,
     "metadata": {},
     "output_type": "execute_result"
    }
   ],
   "source": [
    "%%capture\n",
    "%load_ext sql\n",
    "%sql sqlite:///factbook.db"
   ]
  },
  {
   "cell_type": "markdown",
   "metadata": {},
   "source": [
    "##  Overview of the Data"
   ]
  },
  {
   "cell_type": "code",
   "execution_count": 5,
   "metadata": {
    "collapsed": false
   },
   "outputs": [
    {
     "name": "stdout",
     "output_type": "stream",
     "text": [
      "Done.\n"
     ]
    },
    {
     "data": {
      "text/html": [
       "<table>\n",
       "    <tr>\n",
       "        <th>type</th>\n",
       "        <th>name</th>\n",
       "        <th>tbl_name</th>\n",
       "        <th>rootpage</th>\n",
       "        <th>sql</th>\n",
       "    </tr>\n",
       "    <tr>\n",
       "        <td>table</td>\n",
       "        <td>sqlite_sequence</td>\n",
       "        <td>sqlite_sequence</td>\n",
       "        <td>3</td>\n",
       "        <td>CREATE TABLE sqlite_sequence(name,seq)</td>\n",
       "    </tr>\n",
       "    <tr>\n",
       "        <td>table</td>\n",
       "        <td>facts</td>\n",
       "        <td>facts</td>\n",
       "        <td>47</td>\n",
       "        <td>CREATE TABLE &quot;facts&quot; (&quot;id&quot; INTEGER PRIMARY KEY AUTOINCREMENT NOT NULL, &quot;code&quot; varchar(255) NOT NULL, &quot;name&quot; varchar(255) NOT NULL, &quot;area&quot; integer, &quot;area_land&quot; integer, &quot;area_water&quot; integer, &quot;population&quot; integer, &quot;population_growth&quot; float, &quot;birth_rate&quot; float, &quot;death_rate&quot; float, &quot;migration_rate&quot; float)</td>\n",
       "    </tr>\n",
       "</table>"
      ],
      "text/plain": [
       "[('table', 'sqlite_sequence', 'sqlite_sequence', 3, 'CREATE TABLE sqlite_sequence(name,seq)'),\n",
       " ('table', 'facts', 'facts', 47, 'CREATE TABLE \"facts\" (\"id\" INTEGER PRIMARY KEY AUTOINCREMENT NOT NULL, \"code\" varchar(255) NOT NULL, \"name\" varchar(255) NOT NULL, \"area\" integer, \"a ... (4 characters truncated) ... land\" integer, \"area_water\" integer, \"population\" integer, \"population_growth\" float, \"birth_rate\" float, \"death_rate\" float, \"migration_rate\" float)')]"
      ]
     },
     "execution_count": 5,
     "metadata": {},
     "output_type": "execute_result"
    }
   ],
   "source": [
    "%%sql\n",
    "SELECT *\n",
    "FROM sqlite_master\n",
    "WHERE type='table';"
   ]
  },
  {
   "cell_type": "code",
   "execution_count": 6,
   "metadata": {
    "collapsed": false
   },
   "outputs": [
    {
     "name": "stdout",
     "output_type": "stream",
     "text": [
      "Done.\n"
     ]
    },
    {
     "data": {
      "text/html": [
       "<table>\n",
       "    <tr>\n",
       "        <th>id</th>\n",
       "        <th>code</th>\n",
       "        <th>name</th>\n",
       "        <th>area</th>\n",
       "        <th>area_land</th>\n",
       "        <th>area_water</th>\n",
       "        <th>population</th>\n",
       "        <th>population_growth</th>\n",
       "        <th>birth_rate</th>\n",
       "        <th>death_rate</th>\n",
       "        <th>migration_rate</th>\n",
       "    </tr>\n",
       "    <tr>\n",
       "        <td>1</td>\n",
       "        <td>af</td>\n",
       "        <td>Afghanistan</td>\n",
       "        <td>652230</td>\n",
       "        <td>652230</td>\n",
       "        <td>0</td>\n",
       "        <td>32564342</td>\n",
       "        <td>2.32</td>\n",
       "        <td>38.57</td>\n",
       "        <td>13.89</td>\n",
       "        <td>1.51</td>\n",
       "    </tr>\n",
       "    <tr>\n",
       "        <td>2</td>\n",
       "        <td>al</td>\n",
       "        <td>Albania</td>\n",
       "        <td>28748</td>\n",
       "        <td>27398</td>\n",
       "        <td>1350</td>\n",
       "        <td>3029278</td>\n",
       "        <td>0.3</td>\n",
       "        <td>12.92</td>\n",
       "        <td>6.58</td>\n",
       "        <td>3.3</td>\n",
       "    </tr>\n",
       "    <tr>\n",
       "        <td>3</td>\n",
       "        <td>ag</td>\n",
       "        <td>Algeria</td>\n",
       "        <td>2381741</td>\n",
       "        <td>2381741</td>\n",
       "        <td>0</td>\n",
       "        <td>39542166</td>\n",
       "        <td>1.84</td>\n",
       "        <td>23.67</td>\n",
       "        <td>4.31</td>\n",
       "        <td>0.92</td>\n",
       "    </tr>\n",
       "    <tr>\n",
       "        <td>4</td>\n",
       "        <td>an</td>\n",
       "        <td>Andorra</td>\n",
       "        <td>468</td>\n",
       "        <td>468</td>\n",
       "        <td>0</td>\n",
       "        <td>85580</td>\n",
       "        <td>0.12</td>\n",
       "        <td>8.13</td>\n",
       "        <td>6.96</td>\n",
       "        <td>0.0</td>\n",
       "    </tr>\n",
       "    <tr>\n",
       "        <td>5</td>\n",
       "        <td>ao</td>\n",
       "        <td>Angola</td>\n",
       "        <td>1246700</td>\n",
       "        <td>1246700</td>\n",
       "        <td>0</td>\n",
       "        <td>19625353</td>\n",
       "        <td>2.78</td>\n",
       "        <td>38.78</td>\n",
       "        <td>11.49</td>\n",
       "        <td>0.46</td>\n",
       "    </tr>\n",
       "</table>"
      ],
      "text/plain": [
       "[(1, 'af', 'Afghanistan', 652230, 652230, 0, 32564342, 2.32, 38.57, 13.89, 1.51),\n",
       " (2, 'al', 'Albania', 28748, 27398, 1350, 3029278, 0.3, 12.92, 6.58, 3.3),\n",
       " (3, 'ag', 'Algeria', 2381741, 2381741, 0, 39542166, 1.84, 23.67, 4.31, 0.92),\n",
       " (4, 'an', 'Andorra', 468, 468, 0, 85580, 0.12, 8.13, 6.96, 0.0),\n",
       " (5, 'ao', 'Angola', 1246700, 1246700, 0, 19625353, 2.78, 38.78, 11.49, 0.46)]"
      ]
     },
     "execution_count": 6,
     "metadata": {},
     "output_type": "execute_result"
    }
   ],
   "source": [
    "%%sql\n",
    "SELECT *\n",
    "FROM facts\n",
    "LIMIT 5;"
   ]
  },
  {
   "cell_type": "markdown",
   "metadata": {},
   "source": [
    "The facts table comprises 11 columns with the following titles:\n",
    ">- **id** —  Entry row number.\n",
    ">- **code** — The country's [internet code](https://www.cia.gov/the-world-factbook/field/internet-country-code/).\n",
    ">- **name** — Name of the country.\n",
    ">- **area** — The country's total area (both land and water).\n",
    ">- **area_land** — The country's land area in square kilometers.\n",
    ">- **area_water** — The country's water area in square kilometers.\n",
    ">- **population** —  Whole number of people or inhabitants in the country.\n",
    ">- **population_growth** — The country's population growth as a percentage.\n",
    ">- **birth_rate** — The number of births per year per 1,000 inhabitants.\n",
    ">- **death_rate** — The number of deaths per year per 1,000 inhabitants.\n",
    ">- **migration_rate** — The difference between the number of persons entering and leaving the country during the year per 1,000 persons. \n",
    "  \n",
    "We will then check the total number of records in the facts table:"
   ]
  },
  {
   "cell_type": "code",
   "execution_count": 16,
   "metadata": {
    "collapsed": false
   },
   "outputs": [
    {
     "name": "stdout",
     "output_type": "stream",
     "text": [
      "Done.\n"
     ]
    },
    {
     "data": {
      "text/html": [
       "<table>\n",
       "    <tr>\n",
       "        <th>Total Records</th>\n",
       "        <th>Countries</th>\n",
       "    </tr>\n",
       "    <tr>\n",
       "        <td>261</td>\n",
       "        <td>261</td>\n",
       "    </tr>\n",
       "</table>"
      ],
      "text/plain": [
       "[(261, 261)]"
      ]
     },
     "execution_count": 16,
     "metadata": {},
     "output_type": "execute_result"
    }
   ],
   "source": [
    "%%sql\n",
    "-- Calculate the total number of records\n",
    "SELECT COUNT(*) AS 'Total Records',\n",
    "       COUNT(DISTINCT name) AS Countries\n",
    "FROM facts;"
   ]
  },
  {
   "cell_type": "markdown",
   "metadata": {},
   "source": [
    "We know there are only 195 countries in the world in 2023. \n",
    "\n",
    "As of July 2011, The World Factbook comprises 267 entities divided into the following categories:\n",
    ">- **Independent countries:** The CIA defines these as people \"politically organized into a sovereign state with a definite territory.\" There are 195 entities in this category.\n",
    ">- **Others:** Places set apart from the list of independent countries. Currently, there are two: Taiwan and the European Union.\n",
    ">- **Dependencies and Areas of Special Sovereignty:** Places affiliated with another country. There are 58 in total.\n",
    ">- **Miscellaneous:** Antarctica and places in dispute. There are six such entities.\n",
    ">- **Other entities:** The world and the oceans. There are five oceans and the world (the World entry is intended as a summary of the other entries).\n",
    "\n",
    "Additional information about this classification can be found in the [world factbook wikipedia page](https://en.wikipedia.org/wiki/The_World_Factbook#:~:text=Entities%20listed,-Main%20article%3A%20List&text=The%20CIA%20defines%20these%20as,category%2C%20there%20are%20195%20entities.&text=Places%20set%20apart%20from%20the,Taiwan%20and%20the%20European%20Union.).\n",
    "\n",
    "We can now check for these entities in our data:"
   ]
  },
  {
   "cell_type": "code",
   "execution_count": 17,
   "metadata": {
    "collapsed": false
   },
   "outputs": [
    {
     "name": "stdout",
     "output_type": "stream",
     "text": [
      "Done.\n"
     ]
    },
    {
     "data": {
      "text/html": [
       "<table>\n",
       "    <tr>\n",
       "        <th>id</th>\n",
       "        <th>code</th>\n",
       "        <th>name</th>\n",
       "        <th>area</th>\n",
       "        <th>area_land</th>\n",
       "        <th>area_water</th>\n",
       "        <th>population</th>\n",
       "        <th>population_growth</th>\n",
       "        <th>birth_rate</th>\n",
       "        <th>death_rate</th>\n",
       "        <th>migration_rate</th>\n",
       "    </tr>\n",
       "    <tr>\n",
       "        <td>197</td>\n",
       "        <td>ee</td>\n",
       "        <td>European Union</td>\n",
       "        <td>4324782</td>\n",
       "        <td>None</td>\n",
       "        <td>None</td>\n",
       "        <td>513949445</td>\n",
       "        <td>0.25</td>\n",
       "        <td>10.2</td>\n",
       "        <td>10.2</td>\n",
       "        <td>2.5</td>\n",
       "    </tr>\n",
       "    <tr>\n",
       "        <td>199</td>\n",
       "        <td>kt</td>\n",
       "        <td>Christmas Island</td>\n",
       "        <td>135</td>\n",
       "        <td>135</td>\n",
       "        <td>0</td>\n",
       "        <td>1530</td>\n",
       "        <td>1.11</td>\n",
       "        <td>None</td>\n",
       "        <td>None</td>\n",
       "        <td>None</td>\n",
       "    </tr>\n",
       "    <tr>\n",
       "        <td>203</td>\n",
       "        <td>nf</td>\n",
       "        <td>Norfolk Island</td>\n",
       "        <td>36</td>\n",
       "        <td>36</td>\n",
       "        <td>0</td>\n",
       "        <td>2210</td>\n",
       "        <td>0.01</td>\n",
       "        <td>None</td>\n",
       "        <td>None</td>\n",
       "        <td>None</td>\n",
       "    </tr>\n",
       "    <tr>\n",
       "        <td>208</td>\n",
       "        <td>ip</td>\n",
       "        <td>Clipperton Island</td>\n",
       "        <td>6</td>\n",
       "        <td>6</td>\n",
       "        <td>0</td>\n",
       "        <td>None</td>\n",
       "        <td>None</td>\n",
       "        <td>None</td>\n",
       "        <td>None</td>\n",
       "        <td>None</td>\n",
       "    </tr>\n",
       "    <tr>\n",
       "        <td>222</td>\n",
       "        <td>bv</td>\n",
       "        <td>Bouvet Island</td>\n",
       "        <td>49</td>\n",
       "        <td>49</td>\n",
       "        <td>0</td>\n",
       "        <td>None</td>\n",
       "        <td>None</td>\n",
       "        <td>None</td>\n",
       "        <td>None</td>\n",
       "        <td>None</td>\n",
       "    </tr>\n",
       "    <tr>\n",
       "        <td>244</td>\n",
       "        <td>bq</td>\n",
       "        <td>Navassa Island</td>\n",
       "        <td>5</td>\n",
       "        <td>5</td>\n",
       "        <td>0</td>\n",
       "        <td>None</td>\n",
       "        <td>None</td>\n",
       "        <td>None</td>\n",
       "        <td>None</td>\n",
       "        <td>None</td>\n",
       "    </tr>\n",
       "    <tr>\n",
       "        <td>248</td>\n",
       "        <td>wq</td>\n",
       "        <td>Wake Island</td>\n",
       "        <td>6</td>\n",
       "        <td>6</td>\n",
       "        <td>0</td>\n",
       "        <td>None</td>\n",
       "        <td>None</td>\n",
       "        <td>None</td>\n",
       "        <td>None</td>\n",
       "        <td>None</td>\n",
       "    </tr>\n",
       "    <tr>\n",
       "        <td>256</td>\n",
       "        <td>xq</td>\n",
       "        <td>Arctic Ocean</td>\n",
       "        <td>None</td>\n",
       "        <td>None</td>\n",
       "        <td>None</td>\n",
       "        <td>None</td>\n",
       "        <td>None</td>\n",
       "        <td>None</td>\n",
       "        <td>None</td>\n",
       "        <td>None</td>\n",
       "    </tr>\n",
       "    <tr>\n",
       "        <td>257</td>\n",
       "        <td>zh</td>\n",
       "        <td>Atlantic Ocean</td>\n",
       "        <td>None</td>\n",
       "        <td>None</td>\n",
       "        <td>None</td>\n",
       "        <td>None</td>\n",
       "        <td>None</td>\n",
       "        <td>None</td>\n",
       "        <td>None</td>\n",
       "        <td>None</td>\n",
       "    </tr>\n",
       "    <tr>\n",
       "        <td>258</td>\n",
       "        <td>xo</td>\n",
       "        <td>Indian Ocean</td>\n",
       "        <td>None</td>\n",
       "        <td>None</td>\n",
       "        <td>None</td>\n",
       "        <td>None</td>\n",
       "        <td>None</td>\n",
       "        <td>None</td>\n",
       "        <td>None</td>\n",
       "        <td>None</td>\n",
       "    </tr>\n",
       "    <tr>\n",
       "        <td>259</td>\n",
       "        <td>zn</td>\n",
       "        <td>Pacific Ocean</td>\n",
       "        <td>None</td>\n",
       "        <td>None</td>\n",
       "        <td>None</td>\n",
       "        <td>None</td>\n",
       "        <td>None</td>\n",
       "        <td>None</td>\n",
       "        <td>None</td>\n",
       "        <td>None</td>\n",
       "    </tr>\n",
       "    <tr>\n",
       "        <td>260</td>\n",
       "        <td>oo</td>\n",
       "        <td>Southern Ocean</td>\n",
       "        <td>None</td>\n",
       "        <td>None</td>\n",
       "        <td>None</td>\n",
       "        <td>None</td>\n",
       "        <td>None</td>\n",
       "        <td>None</td>\n",
       "        <td>None</td>\n",
       "        <td>None</td>\n",
       "    </tr>\n",
       "    <tr>\n",
       "        <td>261</td>\n",
       "        <td>xx</td>\n",
       "        <td>World</td>\n",
       "        <td>None</td>\n",
       "        <td>None</td>\n",
       "        <td>None</td>\n",
       "        <td>7256490011</td>\n",
       "        <td>1.08</td>\n",
       "        <td>18.6</td>\n",
       "        <td>7.8</td>\n",
       "        <td>None</td>\n",
       "    </tr>\n",
       "</table>"
      ],
      "text/plain": [
       "[(197, 'ee', 'European Union', 4324782, None, None, 513949445, 0.25, 10.2, 10.2, 2.5),\n",
       " (199, 'kt', 'Christmas Island', 135, 135, 0, 1530, 1.11, None, None, None),\n",
       " (203, 'nf', 'Norfolk Island', 36, 36, 0, 2210, 0.01, None, None, None),\n",
       " (208, 'ip', 'Clipperton Island', 6, 6, 0, None, None, None, None, None),\n",
       " (222, 'bv', 'Bouvet Island', 49, 49, 0, None, None, None, None, None),\n",
       " (244, 'bq', 'Navassa Island', 5, 5, 0, None, None, None, None, None),\n",
       " (248, 'wq', 'Wake Island', 6, 6, 0, None, None, None, None, None),\n",
       " (256, 'xq', 'Arctic Ocean', None, None, None, None, None, None, None, None),\n",
       " (257, 'zh', 'Atlantic Ocean', None, None, None, None, None, None, None, None),\n",
       " (258, 'xo', 'Indian Ocean', None, None, None, None, None, None, None, None),\n",
       " (259, 'zn', 'Pacific Ocean', None, None, None, None, None, None, None, None),\n",
       " (260, 'oo', 'Southern Ocean', None, None, None, None, None, None, None, None),\n",
       " (261, 'xx', 'World', None, None, None, 7256490011, 1.08, 18.6, 7.8, None)]"
      ]
     },
     "execution_count": 17,
     "metadata": {},
     "output_type": "execute_result"
    }
   ],
   "source": [
    "%%sql\n",
    "-- check for 'non-country' data\n",
    "SELECT *\n",
    "FROM facts\n",
    "WHERE name LIKE '%union' \n",
    "    OR name LIKE '%ocean'\n",
    "    OR name LIKE '%island'\n",
    "    OR name = 'World';"
   ]
  },
  {
   "cell_type": "markdown",
   "metadata": {},
   "source": [
    "## Summary Statistics"
   ]
  },
  {
   "cell_type": "code",
   "execution_count": 7,
   "metadata": {
    "collapsed": false
   },
   "outputs": [
    {
     "name": "stdout",
     "output_type": "stream",
     "text": [
      "Done.\n"
     ]
    },
    {
     "data": {
      "text/html": [
       "<table>\n",
       "    <tr>\n",
       "        <th>Minimum population</th>\n",
       "        <th>Maximum population</th>\n",
       "        <th>Minimum population growth</th>\n",
       "        <th>Maximum population growth</th>\n",
       "    </tr>\n",
       "    <tr>\n",
       "        <td>0</td>\n",
       "        <td>7256490011</td>\n",
       "        <td>0.0</td>\n",
       "        <td>4.02</td>\n",
       "    </tr>\n",
       "</table>"
      ],
      "text/plain": [
       "[(0, 7256490011, 0.0, 4.02)]"
      ]
     },
     "execution_count": 7,
     "metadata": {},
     "output_type": "execute_result"
    }
   ],
   "source": [
    "%%sql\n",
    "-- Minimum and Maximum Population\n",
    "SELECT MIN(population) AS 'Minimum population', MAX(population) AS 'Maximum population',\n",
    "MIN(population_growth) AS 'Minimum population growth', MAX(population_growth) AS\n",
    "'Maximum population growth'\n",
    "FROM facts;\n"
   ]
  },
  {
   "cell_type": "markdown",
   "metadata": {},
   "source": [
    "## Investigating Outliers"
   ]
  },
  {
   "cell_type": "code",
   "execution_count": 8,
   "metadata": {
    "collapsed": false
   },
   "outputs": [
    {
     "name": "stdout",
     "output_type": "stream",
     "text": [
      "Done.\n"
     ]
    },
    {
     "data": {
      "text/html": [
       "<table>\n",
       "    <tr>\n",
       "        <th>name</th>\n",
       "        <th>population</th>\n",
       "    </tr>\n",
       "    <tr>\n",
       "        <td>Antarctica</td>\n",
       "        <td>0</td>\n",
       "    </tr>\n",
       "    <tr>\n",
       "        <td>World</td>\n",
       "        <td>7256490011</td>\n",
       "    </tr>\n",
       "</table>"
      ],
      "text/plain": [
       "[('Antarctica', 0), ('World', 7256490011)]"
      ]
     },
     "execution_count": 8,
     "metadata": {},
     "output_type": "execute_result"
    }
   ],
   "source": [
    "%%sql\n",
    "SELECT name, population\n",
    "FROM facts\n",
    "WHERE population = ( SELECT MAX(population) 'Maximum Population' FROM facts) or \n",
    "population = ( SELECT MIN(population) 'Minimum Population' FROM facts);\n"
   ]
  },
  {
   "cell_type": "markdown",
   "metadata": {},
   "source": [
    "It seems like the table contains a row for the whole world, which explains the population of over 7.2 billion. It also seems like the table contains a row for Antarctica, which explains the population of 0."
   ]
  },
  {
   "cell_type": "code",
   "execution_count": 9,
   "metadata": {
    "collapsed": false
   },
   "outputs": [
    {
     "name": "stdout",
     "output_type": "stream",
     "text": [
      "Done.\n"
     ]
    },
    {
     "data": {
      "text/html": [
       "<table>\n",
       "    <tr>\n",
       "        <th>name</th>\n",
       "        <th>population</th>\n",
       "    </tr>\n",
       "    <tr>\n",
       "        <td>China</td>\n",
       "        <td>1367485388</td>\n",
       "    </tr>\n",
       "    <tr>\n",
       "        <td>Pitcairn Islands</td>\n",
       "        <td>48</td>\n",
       "    </tr>\n",
       "</table>"
      ],
      "text/plain": [
       "[('China', 1367485388), ('Pitcairn Islands', 48)]"
      ]
     },
     "execution_count": 9,
     "metadata": {},
     "output_type": "execute_result"
    }
   ],
   "source": [
    "%%sql\n",
    "SELECT name, population\n",
    "FROM facts\n",
    "WHERE population = ( SELECT MIN(population)  FROM facts WHERE name IS NOT 'Antarctica') OR \n",
    "population = ( SELECT MAX(population) FROM facts WHERE name IS NOT 'World') ;\n"
   ]
  },
  {
   "cell_type": "markdown",
   "metadata": {},
   "source": [
    "The minimum population is 48, and the maximum is over 1.3 billion, We can now identify the highest and least population growth countries.\n"
   ]
  },
  {
   "cell_type": "code",
   "execution_count": 10,
   "metadata": {
    "collapsed": false,
    "scrolled": true
   },
   "outputs": [
    {
     "name": "stdout",
     "output_type": "stream",
     "text": [
      "Done.\n"
     ]
    },
    {
     "data": {
      "text/html": [
       "<table>\n",
       "    <tr>\n",
       "        <th>name</th>\n",
       "        <th>population_growth</th>\n",
       "    </tr>\n",
       "    <tr>\n",
       "        <td>South Sudan</td>\n",
       "        <td>4.02</td>\n",
       "    </tr>\n",
       "    <tr>\n",
       "        <td>Holy See (Vatican City)</td>\n",
       "        <td>0.0</td>\n",
       "    </tr>\n",
       "    <tr>\n",
       "        <td>Cocos (Keeling) Islands</td>\n",
       "        <td>0.0</td>\n",
       "    </tr>\n",
       "    <tr>\n",
       "        <td>Greenland</td>\n",
       "        <td>0.0</td>\n",
       "    </tr>\n",
       "    <tr>\n",
       "        <td>Pitcairn Islands</td>\n",
       "        <td>0.0</td>\n",
       "    </tr>\n",
       "</table>"
      ],
      "text/plain": [
       "[('South Sudan', 4.02),\n",
       " ('Holy See (Vatican City)', 0.0),\n",
       " ('Cocos (Keeling) Islands', 0.0),\n",
       " ('Greenland', 0.0),\n",
       " ('Pitcairn Islands', 0.0)]"
      ]
     },
     "execution_count": 10,
     "metadata": {},
     "output_type": "execute_result"
    }
   ],
   "source": [
    "%%sql\n",
    "SELECT name, population_growth\n",
    "FROM facts\n",
    "WHERE population_growth = ( SELECT MAX(population_growth) FROM facts WHERE name IS NOT 'World') or \n",
    "population_growth = ( SELECT MIN(population_growth)  FROM facts WHERE name IS NOT 'Antarctica');\n"
   ]
  },
  {
   "cell_type": "markdown",
   "metadata": {},
   "source": [
    "We can see that China has the most people. South Sudan has the highest growth rate of 4.02."
   ]
  },
  {
   "cell_type": "markdown",
   "metadata": {},
   "source": [
    "## Densely Populated Countries\n",
    "\n",
    "We'll identify countries that have the following:\n",
    "1. Above-average values for population.\n",
    "2. Below-average values for area."
   ]
  },
  {
   "cell_type": "code",
   "execution_count": 50,
   "metadata": {
    "collapsed": false
   },
   "outputs": [
    {
     "name": "stdout",
     "output_type": "stream",
     "text": [
      "Done.\n"
     ]
    },
    {
     "data": {
      "text/html": [
       "<table>\n",
       "    <tr>\n",
       "        <th>Average Population</th>\n",
       "        <th>Average Area</th>\n",
       "    </tr>\n",
       "    <tr>\n",
       "        <td>32103886.619469028</td>\n",
       "        <td>594908.6</td>\n",
       "    </tr>\n",
       "</table>"
      ],
      "text/plain": [
       "[(32103886.619469028, 594908.6)]"
      ]
     },
     "execution_count": 50,
     "metadata": {},
     "output_type": "execute_result"
    }
   ],
   "source": [
    "%%sql\n",
    "SELECT AVG(population) 'Average Population',  AVG(area) 'Average Area' \n",
    "FROM facts \n",
    "WHERE name NOT LIKE '%union' \n",
    "    AND name NOT LIKE '%ocean'\n",
    "    AND name NOT LIKE '%island'\n",
    "    AND name NOT LIKE '%islands'\n",
    "    AND name NOT LIKE 'Antarctica'\n",
    "    AND name NOT LIKE 'World';\n"
   ]
  },
  {
   "cell_type": "markdown",
   "metadata": {},
   "source": [
    "The average population centers around 32 million inhabitants. "
   ]
  },
  {
   "cell_type": "code",
   "execution_count": 51,
   "metadata": {
    "collapsed": false
   },
   "outputs": [
    {
     "name": "stdout",
     "output_type": "stream",
     "text": [
      "Done.\n"
     ]
    },
    {
     "data": {
      "text/html": [
       "<table>\n",
       "    <tr>\n",
       "        <th>5 Most Populated Countries</th>\n",
       "        <th>population</th>\n",
       "        <th>World Proportion</th>\n",
       "    </tr>\n",
       "    <tr>\n",
       "        <td>China</td>\n",
       "        <td>1367485388</td>\n",
       "        <td>0.19</td>\n",
       "    </tr>\n",
       "    <tr>\n",
       "        <td>India</td>\n",
       "        <td>1251695584</td>\n",
       "        <td>0.17</td>\n",
       "    </tr>\n",
       "    <tr>\n",
       "        <td>United States</td>\n",
       "        <td>321368864</td>\n",
       "        <td>0.04</td>\n",
       "    </tr>\n",
       "    <tr>\n",
       "        <td>Indonesia</td>\n",
       "        <td>255993674</td>\n",
       "        <td>0.04</td>\n",
       "    </tr>\n",
       "    <tr>\n",
       "        <td>Brazil</td>\n",
       "        <td>204259812</td>\n",
       "        <td>0.03</td>\n",
       "    </tr>\n",
       "</table>"
      ],
      "text/plain": [
       "[('China', 1367485388, 0.19),\n",
       " ('India', 1251695584, 0.17),\n",
       " ('United States', 321368864, 0.04),\n",
       " ('Indonesia', 255993674, 0.04),\n",
       " ('Brazil', 204259812, 0.03)]"
      ]
     },
     "execution_count": 51,
     "metadata": {},
     "output_type": "execute_result"
    }
   ],
   "source": [
    "%%sql \n",
    "SELECT name AS \"5 Most Populated Countries\", population,\n",
    "ROUND(CAST(population AS Float) / CAST((SELECT MAX(population) FROM facts) AS Float) , 2) AS 'World Proportion'\n",
    "FROM facts\n",
    "WHERE population > 0 AND name NOT IN ('World', 'European Union')\n",
    "ORDER BY 2 DESC\n",
    "LIMIT 5;"
   ]
  },
  {
   "cell_type": "markdown",
   "metadata": {},
   "source": [
    " China is the world's most populated country, with about 1.37 billion people. India is next with about 1.26 billion people. \n",
    "\n",
    "** Approximately 36%of the world's total population comes from China (18.8%) and India (17.2%) alone.**\n",
    "\n",
    "The United States (4.4% of the world total), Indonesia (3.5%), and Brazil (2.8%) follow far behind and altogether the top 5 countries contribute **46%** to the total global population."
   ]
  },
  {
   "cell_type": "markdown",
   "metadata": {},
   "source": [
    "## Sparsely Populated Countries"
   ]
  },
  {
   "cell_type": "code",
   "execution_count": 58,
   "metadata": {
    "collapsed": false
   },
   "outputs": [
    {
     "name": "stdout",
     "output_type": "stream",
     "text": [
      "Done.\n"
     ]
    },
    {
     "data": {
      "text/html": [
       "<table>\n",
       "    <tr>\n",
       "        <th>name</th>\n",
       "        <th>population</th>\n",
       "        <th>area</th>\n",
       "    </tr>\n",
       "    <tr>\n",
       "        <td>Holy See (Vatican City)</td>\n",
       "        <td>842</td>\n",
       "        <td>0</td>\n",
       "    </tr>\n",
       "    <tr>\n",
       "        <td>Niue</td>\n",
       "        <td>1190</td>\n",
       "        <td>260</td>\n",
       "    </tr>\n",
       "    <tr>\n",
       "        <td>Tokelau</td>\n",
       "        <td>1337</td>\n",
       "        <td>12</td>\n",
       "    </tr>\n",
       "    <tr>\n",
       "        <td>Svalbard</td>\n",
       "        <td>1872</td>\n",
       "        <td>62045</td>\n",
       "    </tr>\n",
       "    <tr>\n",
       "        <td>Montserrat</td>\n",
       "        <td>5241</td>\n",
       "        <td>102</td>\n",
       "    </tr>\n",
       "    <tr>\n",
       "        <td>Saint Pierre and Miquelon</td>\n",
       "        <td>5657</td>\n",
       "        <td>242</td>\n",
       "    </tr>\n",
       "    <tr>\n",
       "        <td>Saint Barthelemy</td>\n",
       "        <td>7237</td>\n",
       "        <td>None</td>\n",
       "    </tr>\n",
       "    <tr>\n",
       "        <td>Saint Helena, Ascension, and Tristan da Cunha</td>\n",
       "        <td>7795</td>\n",
       "        <td>308</td>\n",
       "    </tr>\n",
       "    <tr>\n",
       "        <td>Nauru</td>\n",
       "        <td>9540</td>\n",
       "        <td>21</td>\n",
       "    </tr>\n",
       "    <tr>\n",
       "        <td>Tuvalu</td>\n",
       "        <td>10869</td>\n",
       "        <td>26</td>\n",
       "    </tr>\n",
       "    <tr>\n",
       "        <td>Wallis and Futuna</td>\n",
       "        <td>15613</td>\n",
       "        <td>142</td>\n",
       "    </tr>\n",
       "    <tr>\n",
       "        <td>Akrotiri</td>\n",
       "        <td>15700</td>\n",
       "        <td>123</td>\n",
       "    </tr>\n",
       "    <tr>\n",
       "        <td>Dhekelia</td>\n",
       "        <td>15700</td>\n",
       "        <td>130</td>\n",
       "    </tr>\n",
       "    <tr>\n",
       "        <td>Anguilla</td>\n",
       "        <td>16418</td>\n",
       "        <td>91</td>\n",
       "    </tr>\n",
       "    <tr>\n",
       "        <td>Palau</td>\n",
       "        <td>21265</td>\n",
       "        <td>459</td>\n",
       "    </tr>\n",
       "</table>"
      ],
      "text/plain": [
       "[('Holy See (Vatican City)', 842, 0),\n",
       " ('Niue', 1190, 260),\n",
       " ('Tokelau', 1337, 12),\n",
       " ('Svalbard', 1872, 62045),\n",
       " ('Montserrat', 5241, 102),\n",
       " ('Saint Pierre and Miquelon', 5657, 242),\n",
       " ('Saint Barthelemy', 7237, None),\n",
       " ('Saint Helena, Ascension, and Tristan da Cunha', 7795, 308),\n",
       " ('Nauru', 9540, 21),\n",
       " ('Tuvalu', 10869, 26),\n",
       " ('Wallis and Futuna', 15613, 142),\n",
       " ('Akrotiri', 15700, 123),\n",
       " ('Dhekelia', 15700, 130),\n",
       " ('Anguilla', 16418, 91),\n",
       " ('Palau', 21265, 459)]"
      ]
     },
     "execution_count": 58,
     "metadata": {},
     "output_type": "execute_result"
    }
   ],
   "source": [
    "%%sql\n",
    "SELECT name, population, area\n",
    "FROM facts\n",
    "WHERE population < 594908\n",
    "    AND name NOT LIKE '%union' \n",
    "    AND name NOT LIKE '%ocean'\n",
    "    AND name NOT LIKE '% island%'\n",
    "    AND name NOT LIKE '%islands'\n",
    "    AND name NOT LIKE 'Antarctica'\n",
    "ORDER BY population\n",
    "LIMIT 15;"
   ]
  },
  {
   "cell_type": "markdown",
   "metadata": {},
   "source": [
    "## Populated Islands"
   ]
  },
  {
   "cell_type": "code",
   "execution_count": 68,
   "metadata": {
    "collapsed": false
   },
   "outputs": [
    {
     "name": "stdout",
     "output_type": "stream",
     "text": [
      "Done.\n"
     ]
    },
    {
     "data": {
      "text/html": [
       "<table>\n",
       "    <tr>\n",
       "        <th>name</th>\n",
       "        <th>population</th>\n",
       "        <th>area</th>\n",
       "    </tr>\n",
       "    <tr>\n",
       "        <td>Solomon Islands</td>\n",
       "        <td>622469</td>\n",
       "        <td>28896</td>\n",
       "    </tr>\n",
       "    <tr>\n",
       "        <td>Virgin Islands</td>\n",
       "        <td>103574</td>\n",
       "        <td>1910</td>\n",
       "    </tr>\n",
       "    <tr>\n",
       "        <td>Marshall Islands</td>\n",
       "        <td>72191</td>\n",
       "        <td>181</td>\n",
       "    </tr>\n",
       "    <tr>\n",
       "        <td>Cayman Islands</td>\n",
       "        <td>56092</td>\n",
       "        <td>264</td>\n",
       "    </tr>\n",
       "    <tr>\n",
       "        <td>Northern Mariana Islands</td>\n",
       "        <td>52344</td>\n",
       "        <td>464</td>\n",
       "    </tr>\n",
       "    <tr>\n",
       "        <td>Turks and Caicos Islands</td>\n",
       "        <td>50280</td>\n",
       "        <td>948</td>\n",
       "    </tr>\n",
       "    <tr>\n",
       "        <td>Faroe Islands</td>\n",
       "        <td>50196</td>\n",
       "        <td>1393</td>\n",
       "    </tr>\n",
       "    <tr>\n",
       "        <td>British Virgin Islands</td>\n",
       "        <td>33454</td>\n",
       "        <td>151</td>\n",
       "    </tr>\n",
       "    <tr>\n",
       "        <td>Cook Islands</td>\n",
       "        <td>9838</td>\n",
       "        <td>236</td>\n",
       "    </tr>\n",
       "    <tr>\n",
       "        <td>Falkland Islands (Islas Malvinas)</td>\n",
       "        <td>3361</td>\n",
       "        <td>12173</td>\n",
       "    </tr>\n",
       "    <tr>\n",
       "        <td>Norfolk Island</td>\n",
       "        <td>2210</td>\n",
       "        <td>36</td>\n",
       "    </tr>\n",
       "    <tr>\n",
       "        <td>Christmas Island</td>\n",
       "        <td>1530</td>\n",
       "        <td>135</td>\n",
       "    </tr>\n",
       "    <tr>\n",
       "        <td>Cocos (Keeling) Islands</td>\n",
       "        <td>596</td>\n",
       "        <td>14</td>\n",
       "    </tr>\n",
       "    <tr>\n",
       "        <td>Pitcairn Islands</td>\n",
       "        <td>48</td>\n",
       "        <td>47</td>\n",
       "    </tr>\n",
       "    <tr>\n",
       "        <td>Ashmore and Cartier Islands</td>\n",
       "        <td>None</td>\n",
       "        <td>5</td>\n",
       "    </tr>\n",
       "</table>"
      ],
      "text/plain": [
       "[('Solomon Islands', 622469, 28896),\n",
       " ('Virgin Islands', 103574, 1910),\n",
       " ('Marshall Islands', 72191, 181),\n",
       " ('Cayman Islands', 56092, 264),\n",
       " ('Northern Mariana Islands', 52344, 464),\n",
       " ('Turks and Caicos Islands', 50280, 948),\n",
       " ('Faroe Islands', 50196, 1393),\n",
       " ('British Virgin Islands', 33454, 151),\n",
       " ('Cook Islands', 9838, 236),\n",
       " ('Falkland Islands (Islas Malvinas)', 3361, 12173),\n",
       " ('Norfolk Island', 2210, 36),\n",
       " ('Christmas Island', 1530, 135),\n",
       " ('Cocos (Keeling) Islands', 596, 14),\n",
       " ('Pitcairn Islands', 48, 47),\n",
       " ('Ashmore and Cartier Islands', None, 5)]"
      ]
     },
     "execution_count": 68,
     "metadata": {},
     "output_type": "execute_result"
    }
   ],
   "source": [
    "%%sql\n",
    "SELECT name, population, area\n",
    "FROM facts\n",
    "WHERE population < 594908 AND population != 'NONE'\n",
    "    AND name NOT LIKE '%ocean'\n",
    "    AND name NOT LIKE 'Antarctica'\n",
    "    AND name LIKE '% island%' OR name LIKE '%islands%'\n",
    "ORDER BY population DESC\n",
    "LIMIT 15;"
   ]
  },
  {
   "cell_type": "markdown",
   "metadata": {},
   "source": [
    "The least populated Countries are Holy See -Vatican City (842), Niue (1190), Tokelau\t(1337), Svalbard (1872) and Montserrat (5241).\n",
    "    \n",
    "The least populated Islands are the Pitcairn Islands (48 inhabitants), Cocos Islands (596), Christmas Island (1530), Norfolk Island (2210) and Falkland Islands (Islas Malvinas) (3361)"
   ]
  },
  {
   "cell_type": "markdown",
   "metadata": {},
   "source": [
    "## Exploring Population Density\n",
    "\n",
    "Our data provides variables that we can use to estimate population density as follows:\n",
    "\n",
    "$$ \n",
    "Population\\ area = \\frac{Total\\ population}{Land\\ area\\ (km^2)}\n",
    "$$\n"
   ]
  },
  {
   "cell_type": "code",
   "execution_count": 72,
   "metadata": {
    "collapsed": false
   },
   "outputs": [
    {
     "name": "stdout",
     "output_type": "stream",
     "text": [
      "Done.\n"
     ]
    },
    {
     "data": {
      "text/html": [
       "<table>\n",
       "    <tr>\n",
       "        <th>name</th>\n",
       "        <th>area_land</th>\n",
       "        <th>population</th>\n",
       "        <th>Population Density</th>\n",
       "    </tr>\n",
       "    <tr>\n",
       "        <td>Macau</td>\n",
       "        <td>28</td>\n",
       "        <td>592731</td>\n",
       "        <td>21168</td>\n",
       "    </tr>\n",
       "    <tr>\n",
       "        <td>Monaco</td>\n",
       "        <td>2</td>\n",
       "        <td>30535</td>\n",
       "        <td>15267</td>\n",
       "    </tr>\n",
       "    <tr>\n",
       "        <td>Singapore</td>\n",
       "        <td>687</td>\n",
       "        <td>5674472</td>\n",
       "        <td>8259</td>\n",
       "    </tr>\n",
       "    <tr>\n",
       "        <td>Hong Kong</td>\n",
       "        <td>1073</td>\n",
       "        <td>7141106</td>\n",
       "        <td>6655</td>\n",
       "    </tr>\n",
       "    <tr>\n",
       "        <td>Gaza Strip</td>\n",
       "        <td>360</td>\n",
       "        <td>1869055</td>\n",
       "        <td>5191</td>\n",
       "    </tr>\n",
       "    <tr>\n",
       "        <td>Gibraltar</td>\n",
       "        <td>6</td>\n",
       "        <td>29258</td>\n",
       "        <td>4876</td>\n",
       "    </tr>\n",
       "    <tr>\n",
       "        <td>Bahrain</td>\n",
       "        <td>760</td>\n",
       "        <td>1346613</td>\n",
       "        <td>1771</td>\n",
       "    </tr>\n",
       "    <tr>\n",
       "        <td>Maldives</td>\n",
       "        <td>298</td>\n",
       "        <td>393253</td>\n",
       "        <td>1319</td>\n",
       "    </tr>\n",
       "    <tr>\n",
       "        <td>Malta</td>\n",
       "        <td>316</td>\n",
       "        <td>413965</td>\n",
       "        <td>1310</td>\n",
       "    </tr>\n",
       "    <tr>\n",
       "        <td>Bermuda</td>\n",
       "        <td>54</td>\n",
       "        <td>70196</td>\n",
       "        <td>1299</td>\n",
       "    </tr>\n",
       "</table>"
      ],
      "text/plain": [
       "[('Macau', 28, 592731, 21168),\n",
       " ('Monaco', 2, 30535, 15267),\n",
       " ('Singapore', 687, 5674472, 8259),\n",
       " ('Hong Kong', 1073, 7141106, 6655),\n",
       " ('Gaza Strip', 360, 1869055, 5191),\n",
       " ('Gibraltar', 6, 29258, 4876),\n",
       " ('Bahrain', 760, 1346613, 1771),\n",
       " ('Maldives', 298, 393253, 1319),\n",
       " ('Malta', 316, 413965, 1310),\n",
       " ('Bermuda', 54, 70196, 1299)]"
      ]
     },
     "execution_count": 72,
     "metadata": {},
     "output_type": "execute_result"
    }
   ],
   "source": [
    "%%sql\n",
    "SELECT name, area_land, population,\n",
    "       CAST(CAST(population AS Float) / CAST(area_land AS Float) AS Integer) AS 'Population Density'\n",
    "FROM facts\n",
    " WHERE name NOT IN (SELECT name FROM facts\n",
    "                     WHERE population = 0\n",
    "                         OR population IS NULL\n",
    "                         OR area_land = 0\n",
    "                         OR area_land IS NULL  )\n",
    "ORDER BY 4 DESC\n",
    "LIMIT 10;"
   ]
  },
  {
   "cell_type": "markdown",
   "metadata": {},
   "source": [
    "All of these locations have a very low land area. The top five have a combined land area of less than 3,000 km².  These areas are also highly urbanized centers of wealth and finance, with cities and skyscrapers.\n",
    "\n",
    "We may be interested in a densely populated country where the population is greater than the average world population\n",
    "and the area is greater than the average world area."
   ]
  },
  {
   "cell_type": "code",
   "execution_count": 73,
   "metadata": {
    "collapsed": false
   },
   "outputs": [
    {
     "name": "stdout",
     "output_type": "stream",
     "text": [
      "Done.\n"
     ]
    },
    {
     "data": {
      "text/html": [
       "<table>\n",
       "    <tr>\n",
       "        <th>name</th>\n",
       "        <th>population</th>\n",
       "        <th>area_land</th>\n",
       "        <th>Population Density</th>\n",
       "    </tr>\n",
       "    <tr>\n",
       "        <td>Bangladesh</td>\n",
       "        <td>168957745</td>\n",
       "        <td>130170</td>\n",
       "        <td>1297</td>\n",
       "    </tr>\n",
       "    <tr>\n",
       "        <td>Korea, South</td>\n",
       "        <td>49115196</td>\n",
       "        <td>96920</td>\n",
       "        <td>506</td>\n",
       "    </tr>\n",
       "    <tr>\n",
       "        <td>Japan</td>\n",
       "        <td>126919659</td>\n",
       "        <td>364485</td>\n",
       "        <td>348</td>\n",
       "    </tr>\n",
       "    <tr>\n",
       "        <td>Philippines</td>\n",
       "        <td>100998376</td>\n",
       "        <td>298170</td>\n",
       "        <td>338</td>\n",
       "    </tr>\n",
       "    <tr>\n",
       "        <td>Vietnam</td>\n",
       "        <td>94348835</td>\n",
       "        <td>310070</td>\n",
       "        <td>304</td>\n",
       "    </tr>\n",
       "    <tr>\n",
       "        <td>United Kingdom</td>\n",
       "        <td>64088222</td>\n",
       "        <td>241930</td>\n",
       "        <td>264</td>\n",
       "    </tr>\n",
       "    <tr>\n",
       "        <td>Germany</td>\n",
       "        <td>80854408</td>\n",
       "        <td>348672</td>\n",
       "        <td>231</td>\n",
       "    </tr>\n",
       "    <tr>\n",
       "        <td>Italy</td>\n",
       "        <td>61855120</td>\n",
       "        <td>294140</td>\n",
       "        <td>210</td>\n",
       "    </tr>\n",
       "    <tr>\n",
       "        <td>Uganda</td>\n",
       "        <td>37101745</td>\n",
       "        <td>197100</td>\n",
       "        <td>188</td>\n",
       "    </tr>\n",
       "    <tr>\n",
       "        <td>Thailand</td>\n",
       "        <td>67976405</td>\n",
       "        <td>510890</td>\n",
       "        <td>133</td>\n",
       "    </tr>\n",
       "</table>"
      ],
      "text/plain": [
       "[('Bangladesh', 168957745, 130170, 1297),\n",
       " ('Korea, South', 49115196, 96920, 506),\n",
       " ('Japan', 126919659, 364485, 348),\n",
       " ('Philippines', 100998376, 298170, 338),\n",
       " ('Vietnam', 94348835, 310070, 304),\n",
       " ('United Kingdom', 64088222, 241930, 264),\n",
       " ('Germany', 80854408, 348672, 231),\n",
       " ('Italy', 61855120, 294140, 210),\n",
       " ('Uganda', 37101745, 197100, 188),\n",
       " ('Thailand', 67976405, 510890, 133)]"
      ]
     },
     "execution_count": 73,
     "metadata": {},
     "output_type": "execute_result"
    }
   ],
   "source": [
    "%%sql\n",
    "SELECT name, population, area_land,\n",
    "CAST(CAST(population AS Float) / CAST(area_land AS Float) AS Integer) AS 'Population Density'\n",
    "FROM facts\n",
    "WHERE area_land < 594908.6\n",
    "AND population > 32103886\n",
    "ORDER BY 4 DESC\n",
    " LIMIT 10;"
   ]
  },
  {
   "cell_type": "markdown",
   "metadata": {},
   "source": [
    "Bangladesh has the highest population and low land area with a population density of 1,297 people per square km. Bangladesh's population density is more than two times the values recorded for South Korea. Japan, the Philippines, and Vietnam follow respectively."
   ]
  },
  {
   "cell_type": "code",
   "execution_count": 77,
   "metadata": {
    "collapsed": false
   },
   "outputs": [
    {
     "name": "stdout",
     "output_type": "stream",
     "text": [
      "Done.\n"
     ]
    },
    {
     "data": {
      "text/html": [
       "<table>\n",
       "    <tr>\n",
       "        <th>name</th>\n",
       "        <th>population</th>\n",
       "        <th>area_land</th>\n",
       "        <th>Population Density</th>\n",
       "    </tr>\n",
       "    <tr>\n",
       "        <td>Greenland</td>\n",
       "        <td>57733</td>\n",
       "        <td>2166086</td>\n",
       "        <td>0.027</td>\n",
       "    </tr>\n",
       "    <tr>\n",
       "        <td>Mongolia</td>\n",
       "        <td>2992908</td>\n",
       "        <td>1553556</td>\n",
       "        <td>1.926</td>\n",
       "    </tr>\n",
       "    <tr>\n",
       "        <td>Namibia</td>\n",
       "        <td>2212307</td>\n",
       "        <td>823290</td>\n",
       "        <td>2.687</td>\n",
       "    </tr>\n",
       "    <tr>\n",
       "        <td>Australia</td>\n",
       "        <td>22751014</td>\n",
       "        <td>7682300</td>\n",
       "        <td>2.961</td>\n",
       "    </tr>\n",
       "    <tr>\n",
       "        <td>Mauritania</td>\n",
       "        <td>3596702</td>\n",
       "        <td>1030700</td>\n",
       "        <td>3.49</td>\n",
       "    </tr>\n",
       "    <tr>\n",
       "        <td>Libya</td>\n",
       "        <td>6411776</td>\n",
       "        <td>1759540</td>\n",
       "        <td>3.644</td>\n",
       "    </tr>\n",
       "    <tr>\n",
       "        <td>Kazakhstan</td>\n",
       "        <td>18157122</td>\n",
       "        <td>2699700</td>\n",
       "        <td>6.726</td>\n",
       "    </tr>\n",
       "    <tr>\n",
       "        <td>Central African Republic</td>\n",
       "        <td>5391539</td>\n",
       "        <td>622984</td>\n",
       "        <td>8.654</td>\n",
       "    </tr>\n",
       "    <tr>\n",
       "        <td>Chad</td>\n",
       "        <td>11631456</td>\n",
       "        <td>1259200</td>\n",
       "        <td>9.237</td>\n",
       "    </tr>\n",
       "    <tr>\n",
       "        <td>Bolivia</td>\n",
       "        <td>10800882</td>\n",
       "        <td>1083301</td>\n",
       "        <td>9.97</td>\n",
       "    </tr>\n",
       "</table>"
      ],
      "text/plain": [
       "[('Greenland', 57733, 2166086, 0.027),\n",
       " ('Mongolia', 2992908, 1553556, 1.926),\n",
       " ('Namibia', 2212307, 823290, 2.687),\n",
       " ('Australia', 22751014, 7682300, 2.961),\n",
       " ('Mauritania', 3596702, 1030700, 3.49),\n",
       " ('Libya', 6411776, 1759540, 3.644),\n",
       " ('Kazakhstan', 18157122, 2699700, 6.726),\n",
       " ('Central African Republic', 5391539, 622984, 8.654),\n",
       " ('Chad', 11631456, 1259200, 9.237),\n",
       " ('Bolivia', 10800882, 1083301, 9.97)]"
      ]
     },
     "execution_count": 77,
     "metadata": {},
     "output_type": "execute_result"
    }
   ],
   "source": [
    "%%sql\n",
    "SELECT name, population, area_land,\n",
    "ROUND(CAST(population AS Float) / CAST(area_land AS Float), 3) AS 'Population Density'\n",
    "FROM facts\n",
    "WHERE area_land > 594908.6\n",
    "AND population < 32103886\n",
    "ORDER BY 4\n",
    " LIMIT 10;"
   ]
  },
  {
   "cell_type": "markdown",
   "metadata": {},
   "source": [
    " The least densely populated territory is Greenland, with a rate of 0.027 people per square km then Mongolia, Namibia, Australia, and Mauritania follow behind.\n"
   ]
  },
  {
   "cell_type": "markdown",
   "metadata": {},
   "source": [
    " ##  Conclusion\n",
    "\n",
    "The CIA collected this data between 2014 and 2015. As a result, our findings are limited to the period the data was published. They may not reflect the current state of the world's countries.\n",
    "\n",
    "Accounting for 46% of the world's total population, China, India, the United States, Indonesia, and Brazil are the most populated countries. The least populated world locations are majorly Islands and dependencies. \n",
    "\n",
    "Due to their small land area, Macau, Monaco, Singapore, and Hong Kong are more densely populated than the rest of the world. However, when considering larger land areas, Bangladesh, South Korea, and Japan are the most densely populated countries.\n"
   ]
  },
  {
   "cell_type": "code",
   "execution_count": null,
   "metadata": {
    "collapsed": true
   },
   "outputs": [],
   "source": []
  }
 ],
 "metadata": {
  "kernelspec": {
   "display_name": "Python 3",
   "language": "python",
   "name": "python3"
  },
  "language_info": {
   "codemirror_mode": {
    "name": "ipython",
    "version": 3
   },
   "file_extension": ".py",
   "mimetype": "text/x-python",
   "name": "python",
   "nbconvert_exporter": "python",
   "pygments_lexer": "ipython3",
   "version": "3.4.3"
  }
 },
 "nbformat": 4,
 "nbformat_minor": 2
}
